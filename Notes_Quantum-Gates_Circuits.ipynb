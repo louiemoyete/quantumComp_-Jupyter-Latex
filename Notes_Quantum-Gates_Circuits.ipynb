{
 "cells": [
  {
   "cell_type": "code",
   "execution_count": 1,
   "metadata": {},
   "outputs": [],
   "source": [
    "# Quantum Gates and Circuits "
   ]
  },
  {
   "cell_type": "code",
   "execution_count": 19,
   "metadata": {},
   "outputs": [],
   "source": [
    "import numpy as np \n",
    "from qiskit import * \n",
    "from qiskit.visualization import plot_bloch_multivector"
   ]
  },
  {
   "cell_type": "markdown",
   "metadata": {},
   "source": [
    "*Pauli Matrices*"
   ]
  },
  {
   "cell_type": "markdown",
   "metadata": {},
   "source": [
    "\\begin{equation*}\n",
    "\\mathbf{I} =  \\begin{vmatrix}\n",
    "1 & 0 \\\\\n",
    "0 & 1 \\\\\n",
    "\\end{vmatrix}\n",
    "\\end{equation*}\n",
    "\n",
    "\\begin{equation*}\n",
    "\\mathbf{X} =  \\begin{vmatrix}\n",
    "0 & 1 \\\\\n",
    "1 & 0 \\\\\n",
    "\\end{vmatrix}\n",
    "\\end{equation*}\n",
    "\n",
    "\\begin{equation*}\n",
    "\\mathbf{Y} =  \\begin{vmatrix}\n",
    "1 & i \\\\\n",
    "-i & 1 \\\\\n",
    "\\end{vmatrix}\n",
    "\\end{equation*}\n",
    "\n",
    "\\begin{equation*}\n",
    "\\mathbf{Z} =  \\begin{vmatrix}\n",
    "1 & 0 \\\\\n",
    "0 & -1 \\\\\n",
    "\\end{vmatrix}\n",
    "\\end{equation*}"
   ]
  },
  {
   "cell_type": "markdown",
   "metadata": {},
   "source": [
    "*X-Gate*\n",
    "\n",
    "The X-Gate is represented by the Pauli-X Matrix \n",
    "\n",
    "\\begin{equation*}\n",
    "\\mathbf{X} =  \\begin{vmatrix}\n",
    "0 & 1 \\\\\n",
    "1 & 0 \\\\\n",
    "\\end{vmatrix} = |0><1| +|1><0|\n",
    "\\end{equation*}\n",
    "\n",
    "The effect of a gate on a qubit : \n",
    "\\begin{equation*}\n",
    "\\mathbf{X|0>} =  \\begin{vmatrix}\n",
    "0 & 1 \\\\\n",
    "1 & 0 \\\\\n",
    "\\end{vmatrix}\\begin{vmatrix}\n",
    "1 \\\\\n",
    "0 \\\\\n",
    "\\end{vmatrix} = \\begin{vmatrix}\n",
    "0 \\\\\n",
    "1 \\\\\n",
    "\\end{vmatrix} = |1>\n",
    "\\end{equation*}\n"
   ]
  },
  {
   "cell_type": "code",
   "execution_count": 20,
   "metadata": {},
   "outputs": [
    {
     "data": {
      "image/png": "[encoded data removed]",
      "text/plain": [
       "<Figure size 133.526x84.28 with 1 Axes>"
      ]
     },
     "execution_count": 20,
     "metadata": {},
     "output_type": "execute_result"
    }
   ],
   "source": [
    "# X-gate on |0> qubit \n",
    "quantumC = QuantumCircuit( 1 )\n",
    "quantumC.x( 0 ) \n",
    "quantumC.draw( 'mpl' )"
   ]
  },
  {
   "cell_type": "markdown",
   "metadata": {},
   "source": [
    "*Z & Y - Gate*\n",
    "\n",
    "\\begin{equation*}\n",
    "\\mathbf{Y} =  \\begin{vmatrix}\n",
    "0 & -i \\\\\n",
    "i & 0 \\\\\n",
    "\\end{vmatrix}\n",
    "\\end{equation*}\n",
    "\n",
    "\\begin{equation*}\n",
    "Y = -i|0><1|+i|1><0|\n",
    "\\end{equation*}\n",
    "\n",
    "\\begin{equation*}\n",
    "\\mathbf{Z} =  \\begin{vmatrix}\n",
    "1 & 0 \\\\\n",
    "0 & -1 \\\\\n",
    "\\end{vmatrix}\n",
    "\\end{equation*}\n",
    "\n",
    "\\begin{equation*}\n",
    "Z = |0><0| - |1><1|\n",
    "\\end{equation*}"
   ]
  },
  {
   "cell_type": "code",
   "execution_count": 21,
   "metadata": {},
   "outputs": [
    {
     "data": {
      "image/png": "[encoded data removed]",
      "text/plain": [
       "<Figure size 253.926x84.28 with 1 Axes>"
      ]
     },
     "execution_count": 21,
     "metadata": {},
     "output_type": "execute_result"
    }
   ],
   "source": [
    "# Y-Gate on qubit 0\n",
    "quantumC.y( 0 )\n",
    "# Z-Gate on qubit 0\n",
    "quantumC.z( 0 )\n",
    "\n",
    "quantumC.draw( 'mpl' )"
   ]
  },
  {
   "cell_type": "markdown",
   "metadata": {},
   "source": [
    "*Hadamard Gate*\n",
    "\n",
    "Hadamard Gates lets us create superpositions\n",
    "\n",
    "\\begin{equation*}\n",
    "\\mathbf{H} =  \n",
    "\\frac{1}{\\sqrt{2}} \n",
    "\\begin{vmatrix}\n",
    "1 & 1 \\\\\n",
    "1 & -1 \\\\\n",
    "\\end{vmatrix}\n",
    "\\end{equation*}\n",
    "\n",
    "And it performs the transformation : \n",
    "\n",
    "H|0> = |+>\n",
    "\n",
    "\n",
    "H|1> = |->"
   ]
  },
  {
   "cell_type": "code",
   "execution_count": 22,
   "metadata": {},
   "outputs": [
    {
     "data": {
      "image/png": "[encoded data removed]",
      "text/plain": [
       "<Figure size 146.797x204.68 with 1 Axes>"
      ]
     },
     "execution_count": 22,
     "metadata": {},
     "output_type": "execute_result"
    }
   ],
   "source": [
    "# Excercise : Create circuit with three qubits \n",
    "newQC = QuantumCircuit( 3 )\n",
    "\n",
    "# Apply an H-Gate to each qubit \n",
    "for qubit in range( 3 ):\n",
    "    newQC.h( qubit )\n",
    "    \n",
    "# Display the circuit \n",
    "newQC.draw( 'mpl' )"
   ]
  },
  {
   "cell_type": "markdown",
   "metadata": {},
   "source": [
    "*Identity Gate*\n",
    "\n",
    "The Identity Matrix. No effect on anything\n",
    "\n",
    "\\begin{equation*}\n",
    "\\mathbf{I} =  \n",
    "\\begin{vmatrix}\n",
    "1 & 0 \\\\\n",
    "0 & 1 \\\\\n",
    "\\end{vmatrix}\n",
    "\\end{equation*}\n",
    "\\begin{equation*}\n",
    "I = XX\n",
    "\\end{equation*}"
   ]
  },
  {
   "cell_type": "code",
   "execution_count": 23,
   "metadata": {},
   "outputs": [
    {
     "data": {
      "image/png": "[encoded data removed]",
      "text/plain": [
       "<Figure size 206.997x204.68 with 1 Axes>"
      ]
     },
     "execution_count": 23,
     "metadata": {},
     "output_type": "execute_result"
    }
   ],
   "source": [
    "newQC.i( 0 )\n",
    "newQC.draw( 'mpl' )"
   ]
  }
 ],
 "metadata": {
  "kernelspec": {
   "display_name": "Python 3",
   "language": "python",
   "name": "python3"
  },
  "language_info": {
   "codemirror_mode": {
    "name": "ipython",
    "version": 3
   },
   "file_extension": ".py",
   "mimetype": "text/x-python",
   "name": "python",
   "nbconvert_exporter": "python",
   "pygments_lexer": "ipython3",
   "version": "3.8.5"
  }
 },
 "nbformat": 4,
 "nbformat_minor": 4
}
