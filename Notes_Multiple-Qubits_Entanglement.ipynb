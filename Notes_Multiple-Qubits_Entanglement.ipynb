{
 "cells": [
  {
   "cell_type": "code",
   "execution_count": 26,
   "metadata": {},
   "outputs": [],
   "source": [
    "# Multiple Qubits, Entanglement "
   ]
  },
  {
   "cell_type": "code",
   "execution_count": 35,
   "metadata": {},
   "outputs": [],
   "source": [
    "import numpy as np \n",
    "from qiskit import *"
   ]
  },
  {
   "cell_type": "markdown",
   "metadata": {},
   "source": [
    "*Multiple Qubits*\n",
    "\n",
    "The State of two Qubits : \n",
    "\n",
    "\\begin{equation*}\n",
    "\\mathbf{|psi>} = a_{00}|0>+a_{01}|01>+a_{10}|10>+a_{11}|11> \n",
    "\\begin{vmatrix}\n",
    "a_{00} \\\\\n",
    "a_{01} \\\\\n",
    "a_{10} \\\\\n",
    "a_{11} \\\\\n",
    "\\end{vmatrix}\n",
    "\\end{equation*}"
   ]
  },
  {
   "cell_type": "code",
   "execution_count": 36,
   "metadata": {},
   "outputs": [
    {
     "data": {
      "image/png": "[encoded data removed]",
      "text/plain": [
       "<Figure size 146.797x204.68 with 1 Axes>"
      ]
     },
     "execution_count": 36,
     "metadata": {},
     "output_type": "execute_result"
    }
   ],
   "source": [
    "aQC = QuantumCircuit( 3 )\n",
    "# Aplpy H-Gate to each Qubit : \n",
    "for qubit in range( 3 ):\n",
    "        aQC.h( qubit )\n",
    "\n",
    "# Display \n",
    "aQC.draw( 'mpl' )"
   ]
  },
  {
   "cell_type": "markdown",
   "metadata": {},
   "source": [
    "Each Qubit is in state |+>, so we should see the vector \n",
    "\n",
    "\\begin{equation*}\n",
    "\\mathbf{|+++>} = \n",
    "\\frac{1}{\\sqrt{8}} \n",
    "\\begin{vmatrix}\n",
    "1 \\\\\n",
    "1 \\\\\n",
    "1 \\\\\n",
    "1 \\\\\n",
    "1 \\\\\n",
    "1 \\\\\n",
    "1 \\\\\n",
    "1 \\\\\n",
    "\\end{vmatrix}\n",
    "\\end{equation*}"
   ]
  },
  {
   "cell_type": "code",
   "execution_count": 37,
   "metadata": {},
   "outputs": [
    {
     "data": {
      "image/png": "[encoded data removed]",
      "text/plain": [
       "<Figure size 146.652x144.48 with 1 Axes>"
      ]
     },
     "execution_count": 37,
     "metadata": {},
     "output_type": "execute_result"
    }
   ],
   "source": [
    "newQC = QuantumCircuit( 2 ) \n",
    "newQC.h( 0 )\n",
    "newQC.x( 1 )\n",
    "newQC.draw( 'mpl' )"
   ]
  },
  {
   "cell_type": "markdown",
   "metadata": {},
   "source": [
    "\\begin{equation*}\n",
    "X|q_1> \\oplus H|q_0> = (X \\oplus H)|q_1q_0>\n",
    "\\end{equation*}\n",
    "\n",
    "The operation looks like this: \n",
    "\n",
    "\\begin{equation*}\n",
    "\\mathbf{X \\oplus H} = \n",
    "\\begin{vmatrix}\n",
    "0 & 1 \\\\\n",
    "1 & 0 \\\\\n",
    "\\end{vmatrix}\n",
    "\\oplus\n",
    "\\frac{1}{\\sqrt{2}}\n",
    "\\begin{vmatrix}\n",
    "1 & 1 \\\\\n",
    "1 & -1 \\\\\n",
    "\\end{vmatrix} = \n",
    "\\frac{1}{\\sqrt{2}}\n",
    "\\begin{vmatrix}\n",
    "0 & 0 & 1 & 1 \\\\\n",
    "0 & 0 & 1 & -1 \\\\\n",
    "1 & 1 & 0 & 0 \\\\\n",
    "1 & -1 & 0 & 0 \\\\\n",
    "\\end{vmatrix}\n",
    "\\end{equation*}\n",
    "\n",
    "Which we can then aplpy yo out 4D statevector |q_1q_0>\n",
    "\n",
    "Notation often used : \n",
    "\\begin{equation*}\n",
    "\\mathbf{X \\oplus H} = \n",
    "\\begin{vmatrix}\n",
    "0 & H \\\\\n",
    "H & 0 \\\\\n",
    "\\end{vmatrix}\n",
    "\\end{equation*}\n",
    "\n",
    "\n",
    "\n",
    "*The C-Not Gate*"
   ]
  },
  {
   "cell_type": "code",
   "execution_count": 38,
   "metadata": {},
   "outputs": [
    {
     "data": {
      "image/png": "[encoded data removed]",
      "text/plain": [
       "<Figure size 146.652x144.48 with 1 Axes>"
      ]
     },
     "execution_count": 38,
     "metadata": {},
     "output_type": "execute_result"
    }
   ],
   "source": [
    "# Create circuit with two qubits \n",
    "newQC = QuantumCircuit( 2 )\n",
    "\n",
    "#Apply CNOT \n",
    "newQC.cx( 0,1 )\n",
    "\n",
    "#Display\n",
    "newQC.draw( 'mpl' )"
   ]
  },
  {
   "cell_type": "markdown",
   "metadata": {},
   "source": [
    "Truth Table of C-Not gate \n",
    "\n",
    "Input (t,c) ... Output(t,c)\n",
    "*         00  ..  00\n",
    "*         01  ..  11\n",
    "*         10  ..  10 \n",
    "*         11  ..  01\n",
    "         \n",
    "         \n",
    "*The Entanglement*"
   ]
  },
  {
   "cell_type": "code",
   "execution_count": 39,
   "metadata": {},
   "outputs": [
    {
     "data": {
      "image/png": "[encoded data removed]",
      "text/plain": [
       "<Figure size 146.652x144.48 with 1 Axes>"
      ]
     },
     "execution_count": 39,
     "metadata": {},
     "output_type": "execute_result"
    }
   ],
   "source": [
    "# Create Circuit with Two Qubits \n",
    "newQC = QuantumCircuit( 2 )\n",
    "\n",
    "# Apply H Gate First \n",
    "newQC.h( 0 )\n",
    "\n",
    "# Display\n",
    "newQC.draw( 'mpl' )"
   ]
  },
  {
   "cell_type": "code",
   "execution_count": 40,
   "metadata": {},
   "outputs": [
    {
     "name": "stdout",
     "output_type": "stream",
     "text": [
      "[0.70710678+0.j 0.70710678+0.j 0.        +0.j 0.        +0.j]\n"
     ]
    }
   ],
   "source": [
    "# Display the Result \n",
    "backE = Aer.get_backend('statevector_simulator')\n",
    "output = execute( newQC, backE ).result().get_statevector()\n",
    "print( output )"
   ]
  },
  {
   "cell_type": "markdown",
   "metadata": {},
   "source": [
    "If we did the multiplicaiton we'd see this results corresponds to the followign Quantum State : \n",
    "|0+> = 1/sqr{2}( |00> + |01> )"
   ]
  },
  {
   "cell_type": "code",
   "execution_count": 41,
   "metadata": {},
   "outputs": [
    {
     "data": {
      "image/png": "[encoded data removed]",
      "text/plain": [
       "<Figure size 206.852x144.48 with 1 Axes>"
      ]
     },
     "execution_count": 41,
     "metadata": {},
     "output_type": "execute_result"
    }
   ],
   "source": [
    "# Apply CNOT : \n",
    "newQC.cx( 0,1 )\n",
    "newQC.draw( 'mpl' )"
   ]
  },
  {
   "cell_type": "code",
   "execution_count": 42,
   "metadata": {},
   "outputs": [
    {
     "name": "stdout",
     "output_type": "stream",
     "text": [
      "[0.70710678+0.j 0.        +0.j 0.        +0.j 0.70710678+0.j]\n"
     ]
    }
   ],
   "source": [
    "# Display the Result \n",
    "final = execute( newQC, backE ).result().get_statevector()\n",
    "print( final )"
   ]
  },
  {
   "cell_type": "markdown",
   "metadata": {},
   "source": [
    "This final state is a Bell State \n",
    "CNOT|0+> = 1/sqrt{2}( |00> + |11> )"
   ]
  }
 ],
 "metadata": {
  "kernelspec": {
   "display_name": "Python 3",
   "language": "python",
   "name": "python3"
  },
  "language_info": {
   "codemirror_mode": {
    "name": "ipython",
    "version": 3
   },
   "file_extension": ".py",
   "mimetype": "text/x-python",
   "name": "python",
   "nbconvert_exporter": "python",
   "pygments_lexer": "ipython3",
   "version": "3.8.5"
  }
 },
 "nbformat": 4,
 "nbformat_minor": 4
}
